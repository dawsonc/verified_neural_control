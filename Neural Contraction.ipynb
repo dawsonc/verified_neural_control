{
 "cells": [
  {
   "cell_type": "code",
   "execution_count": 8,
   "metadata": {},
   "outputs": [],
   "source": [
    "import numpy as np\n",
    "import matplotlib.pyplot as plt\n",
    "import matplotlib.patches as patches\n",
    "from tqdm.notebook import tqdm\n",
    "import torch\n",
    "from torch.autograd.functional import jacobian\n",
    "import torch.nn as nn\n",
    "import torch.nn.functional as F\n",
    "import torch.optim as optim\n",
    "import scipy.linalg\n",
    "from abc import ABC, abstractmethod"
   ]
  },
  {
   "cell_type": "markdown",
   "metadata": {},
   "source": [
    "## Step 1: Define the system dynamics"
   ]
  },
  {
   "cell_type": "code",
   "execution_count": 9,
   "metadata": {},
   "outputs": [],
   "source": [
    "# Start with a simple linear system\n",
    "# A single-integrator with damping\n",
    "alpha = 0.1;\n",
    "A = torch.tensor([[0, 1], [0, -alpha]]);\n",
    "B = torch.tensor([[0], [1.0]])\n",
    "\n",
    "def f(x, u):\n",
    "    Ax = torch.matmul(A, x.reshape(-1, 2, 1))\n",
    "    Bu = torch.matmul(B, u.reshape(-1, 1, 1))\n",
    "    return Ax + Bu\n",
    "\n",
    "n_dims = 2\n",
    "n_controls = 1"
   ]
  },
  {
   "cell_type": "markdown",
   "metadata": {},
   "source": [
    "## Step 2: Define the contraction metric and linear controller architecture"
   ]
  },
  {
   "cell_type": "code",
   "execution_count": 10,
   "metadata": {},
   "outputs": [],
   "source": [
    "class ControllerNet(nn.Module):\n",
    "    \"\"\"A class to represent a linear controller for a dynamical system\"\"\"\n",
    "\n",
    "    def __init__(self, n_dims, n_controls, A, B):\n",
    "        super(ControllerNet, self).__init__()\n",
    "\n",
    "        self.feedback_layer = nn.Linear(n_dims, n_controls, bias=False)\n",
    "        \n",
    "        self.n_dims = n_dims\n",
    "        self.n_controls = n_controls\n",
    "\n",
    "        # Initialize the controller using the LQR weights\n",
    "        Q = np.eye(n_dims)\n",
    "        R = np.eye(n_controls)\n",
    "        X = np.matrix(scipy.linalg.solve_continuous_are(A, B, Q, R))\n",
    "        K = np.matrix(scipy.linalg.inv(R)*(B.T*X))\n",
    "        K = -torch.tensor(K)\n",
    "        self.feedback_layer.weight = torch.nn.Parameter(K.float())\n",
    "        \n",
    "    def forward(self, x):\n",
    "        \"\"\"Compute the control input for state x - bs x n_dims x 1\n",
    "        \n",
    "        returns bs x n_controls x 1\n",
    "        \"\"\"\n",
    "        return self.feedback_layer(x.squeeze()).reshape(-1, self.n_controls, 1)\n",
    "    \n",
    "    def K(self, x):\n",
    "        \"\"\"Compute the jacobian of the control for state x\"\"\"\n",
    "        batch_size = x.shape[0]\n",
    "        K = torch.zeros(batch_size, self.n_controls, self.n_dims)\n",
    "        for batch_idx in range(batch_size):\n",
    "            K[batch_idx, :, :] = jacobian(self.forward, x[batch_idx], create_graph=True).reshape(self.n_controls, self.n_dims)\n",
    "        \n",
    "        return K\n",
    "\n",
    "\n",
    "class ContractionNet(nn.Module, ABC):\n",
    "    \"\"\"A class to represent a contraction metric for a dynamical system\"\"\"\n",
    "\n",
    "    def __init__(self, n_dims):\n",
    "        super(ContractionNet, self).__init__()\n",
    "        \n",
    "        self.n_dims = n_dims\n",
    "        \n",
    "    @abstractmethod\n",
    "    def M(self, x):\n",
    "        \"\"\"Get the metric matrix at state x\"\"\"\n",
    "        raise NotImplementedError(\"Subclasses must implement this!\")\n",
    "    \n",
    "    def gradM(self, x):\n",
    "        \"\"\"Get the gradient of M wrt x\"\"\"\n",
    "        batch_size = x.shape[0]\n",
    "        gradM = torch.zeros(batch_size, self.n_dims, self.n_dims, self.n_dims)\n",
    "        M_flat = lambda x: self.M(x).reshape(-1, 4)\n",
    "        for batch_idx in range(batch_size):\n",
    "            # This is gross\n",
    "            J = jacobian(M_flat, x[batch_idx, :].unsqueeze(0), create_graph=True).squeeze().unsqueeze(0)\n",
    "            J = J.permute(2, 0, 1).reshape(self.n_dims, self.n_dims, self.n_dims)\n",
    "            gradM[batch_idx, :, :, :] = J\n",
    "            \n",
    "        \n",
    "        return gradM\n",
    "        \n",
    "    def forward(self, x):\n",
    "        \"\"\"Compute the value of the metric for state x\"\"\"\n",
    "        metric = F.bilinear(x, x, self.M(x))\n",
    "        \n",
    "        return metric\n",
    "    \n",
    "class FixedContractionNet(ContractionNet):\n",
    "    \"\"\"A class to represent a constant contraction metric for a dynamical system\"\"\"\n",
    "\n",
    "    def __init__(self, n_dims):\n",
    "        super(FixedContractionNet, self).__init__(n_dims)\n",
    "        \n",
    "    def M(self, x):\n",
    "        \"\"\"Get the metric matrix at state x\"\"\"\n",
    "        Theta = self._Theta.unsqueeze(0).repeat(x.shape[0], 1, 1)\n",
    "        Theta_T = Theta.transpose(1, 2)\n",
    "        M_matrix = torch.bmm(Theta_T, Theta)\n",
    "\n",
    "        return M_matrix\n",
    "\n",
    "\n",
    "class DiagonalContractionNet(ContractionNet):\n",
    "    \"\"\"A class to represent a contraction metric using a diagonal matrix\"\"\"\n",
    "\n",
    "    def __init__(self, n_dims):\n",
    "        super(DiagonalContractionNet, self).__init__(n_dims)\n",
    "        \n",
    "        # Define the matrix M by an affine map from x to the diagonal elements of M\n",
    "        # (all other elements will be zero)\n",
    "        self.M_diag = nn.Linear(n_dims, n_dims)\n",
    "        \n",
    "    def M(self, x):\n",
    "        \"\"\"Get the metric matrix at state x\"\"\"\n",
    "        # Get the diagonal elements using a linear layer, with a ReLU to ensure that all\n",
    "        # elements are >= 0\n",
    "        M_diagonal_elements = F.relu(self.M_diag(x.squeeze()))\n",
    "        M_matrix = torch.diag_embed(M_diagonal_elements)\n",
    "\n",
    "        return M_matrix\n",
    "\n",
    "    \n",
    "class SymmetricContractionNet(ContractionNet):\n",
    "    \"\"\"A class to represent a contraction metric using a generic symmetric matrix\"\"\"\n",
    "\n",
    "    def __init__(self, n_dims):\n",
    "        super(SymmetricContractionNet, self).__init__(n_dims)\n",
    "        \n",
    "        # Define the matrix M = A + A.T for some generic matrix A\n",
    "        self.A = nn.Linear(n_dims, n_dims * n_dims)\n",
    "        \n",
    "    def M(self, x):\n",
    "        \"\"\"Get the metric matrix at state x\"\"\"\n",
    "        A = self.A(x.squeeze()).reshape(-1, self.n_dims, self.n_dims)\n",
    "        M_matrix = A + torch.transpose(A, -1, -2)\n",
    "\n",
    "        return M_matrix\n"
   ]
  },
  {
   "cell_type": "markdown",
   "metadata": {},
   "source": [
    "## Step 3: Learn a controller with a contraction metric"
   ]
  },
  {
   "cell_type": "code",
   "execution_count": 25,
   "metadata": {},
   "outputs": [],
   "source": [
    "# Gather training and test points\n",
    "N_train = 100000\n",
    "N_test = 10000\n",
    "\n",
    "x_max = torch.ones((n_dims,))\n",
    "x_max[0] = 5.0\n",
    "x_max[1] = 5.0\n",
    "x_min = -x_max\n",
    "\n",
    "# Sample training points\n",
    "x_train = torch.rand((N_train, n_dims, 1))\n",
    "for i in range(n_dims):\n",
    "    x_train[:, i, 0] = x_train[:, i, 0] * (x_max[i] - x_min[i]) + x_min[i]\n",
    "\n",
    "# And some test points\n",
    "x_test = torch.rand((N_test, n_dims, 1))\n",
    "for i in range(n_dims):\n",
    "    x_test[:, i, 0] = x_test[:, i, 0] * (x_max[i] - x_min[i]) + x_min[i]"
   ]
  },
  {
   "cell_type": "code",
   "execution_count": 26,
   "metadata": {},
   "outputs": [
    {
     "data": {
      "text/plain": [
       "<matplotlib.collections.PathCollection at 0x7f2f3318b490>"
      ]
     },
     "execution_count": 26,
     "metadata": {},
     "output_type": "execute_result"
    },
    {
     "data": {
      "image/png": "[encoded data removed]",
      "text/plain": [
       "<Figure size 432x288 with 1 Axes>"
      ]
     },
     "metadata": {
      "needs_background": "light"
     },
     "output_type": "display_data"
    }
   ],
   "source": [
    "# Make sure we got it\n",
    "plt.figure()\n",
    "plt.scatter(x_test[:, 0], x_test[:, 1], 0.1)"
   ]
  },
  {
   "cell_type": "code",
   "execution_count": 27,
   "metadata": {},
   "outputs": [],
   "source": [
    "def positive_definite_loss(A, eps=0.1):\n",
    "    \"\"\"Return a loss that is 0 if A is positive definite and 0 otherwise.\n",
    "    \n",
    "    Uses the Gershgorin Circle Theorem, so if loss is zero then A is PD, but\n",
    "    not every PD matrix will yield a loss of zero.\n",
    "    \"\"\"\n",
    "    # let lambda_min_i be the i-th diagonal of A minus the sum of the absolute values of the other\n",
    "    # elements in that row. Then min_i (lambda_min_i) > 0 implies A is positive definite\n",
    "\n",
    "    diagonal_entries = torch.diagonal(A, dim1=-2, dim2=-1)\n",
    "    off_diagonal_sum = torch.abs(A).sum(dim=-1) - torch.abs(diagonal_entries)\n",
    "    min_gershgorin_eig_A = diagonal_entries - off_diagonal_sum\n",
    "    return F.relu(eps - min_gershgorin_eig_A).mean()\n",
    "\n",
    "def contraction_loss(x, u_net, M_net, lambda_M = 0.1):\n",
    "    \"\"\"Construct a loss based on the contraction metric property\n",
    "    \n",
    "    args:\n",
    "        x - N_goal x n_dims tensor of points\n",
    "        u_net - ControllerNet instance\n",
    "        M_net - ContractionNet instance\n",
    "        lambda_M - desired convergence rate\n",
    "    \"\"\"\n",
    "    loss = 0.0\n",
    "    batch_size = x.shape[0]\n",
    "    M = M_net.M(x)\n",
    "    \n",
    "    # Penalize M if it is not positive definite (using Gershgorin)\n",
    "    loss += positive_definite_loss(M, eps=0.1)\n",
    "    \n",
    "    # This is the simple loss (which Dawei describes as \"hard\") from eq(5)\n",
    "    # in the neural contraction paper.\n",
    "    \n",
    "    # First get the time derivative of M\n",
    "    with torch.enable_grad():\n",
    "        gradM = M_net.gradM(x)\n",
    "        closed_loop_jacobian = A + torch.matmul(B, u_net.K(x))\n",
    "\n",
    "    u = u_net(x)\n",
    "    xdot = f(x, u)\n",
    "    Mdot = torch.zeros_like(M)\n",
    "    for batch_idx in range(batch_size):\n",
    "        for dim_idx in range(x.shape[1]):\n",
    "            Mdot[batch_idx, :, :] += gradM[batch_idx, :, :, dim_idx] * xdot[batch_idx, dim_idx]\n",
    "    \n",
    "    MABK = torch.bmm(M, closed_loop_jacobian)\n",
    "    \n",
    "    C1 = Mdot + MABK.transpose(1, 2) + MABK + 2 * lambda_M * M\n",
    "\n",
    "    # Also add gershgorin loss\n",
    "    loss += positive_definite_loss(-C1, eps=0.01)\n",
    "\n",
    "    return loss\n"
   ]
  },
  {
   "cell_type": "markdown",
   "metadata": {},
   "source": [
    "Now that we've defined all the needed networks and loss functions, we can start training!"
   ]
  },
  {
   "cell_type": "code",
   "execution_count": 28,
   "metadata": {},
   "outputs": [
    {
     "name": "stdout",
     "output_type": "stream",
     "text": [
      "Starting training\n"
     ]
    },
    {
     "data": {
      "application/vnd.jupyter.widget-view+json": {
       "model_id": "595f20710c7a4328b980be6c4546f2ac",
       "version_major": 2,
       "version_minor": 0
      },
      "text/plain": [
       "HBox(children=(HTML(value=''), FloatProgress(value=0.0, max=1563.0), HTML(value='')))"
      ]
     },
     "metadata": {},
     "output_type": "display_data"
    },
    {
     "name": "stdout",
     "output_type": "stream",
     "text": [
      "\n",
      "Test loss: 2.993e-05\n"
     ]
    },
    {
     "data": {
      "application/vnd.jupyter.widget-view+json": {
       "model_id": "c327611505434eb4a4a31340b4f07ecd",
       "version_major": 2,
       "version_minor": 0
      },
      "text/plain": [
       "HBox(children=(HTML(value=''), FloatProgress(value=0.0, max=1563.0), HTML(value='')))"
      ]
     },
     "metadata": {},
     "output_type": "display_data"
    },
    {
     "name": "stdout",
     "output_type": "stream",
     "text": [
      "\n",
      "Test loss: 3.6e-07\n"
     ]
    },
    {
     "data": {
      "application/vnd.jupyter.widget-view+json": {
       "model_id": "45ed352dac114e6481066affe94465b4",
       "version_major": 2,
       "version_minor": 0
      },
      "text/plain": [
       "HBox(children=(HTML(value=''), FloatProgress(value=0.0, max=1563.0), HTML(value='')))"
      ]
     },
     "metadata": {},
     "output_type": "display_data"
    },
    {
     "name": "stdout",
     "output_type": "stream",
     "text": [
      "\n",
      "Test loss: 0.0\n",
      "Contraction metric found!\n"
     ]
    }
   ],
   "source": [
    "# Define hyperparameters for the learning process\n",
    "learning_rate = 1e-3\n",
    "batch_size = 64\n",
    "max_epochs = 10\n",
    "\n",
    "\n",
    "# Define the network for learning the controller and certificates\n",
    "u_net = ControllerNet(n_dims, n_controls, A, B)\n",
    "M_net = SymmetricContractionNet(n_dims)\n",
    "lambda_M = 0.1\n",
    "\n",
    "# Train the networks\n",
    "optimizer = optim.Adam(list(u_net.parameters())\n",
    "                       + list(M_net.parameters()), lr=learning_rate)\n",
    "\n",
    "# Also log histories of training and test loss\n",
    "training_losses = []\n",
    "test_losses = []\n",
    "best_loss = np.inf\n",
    "\n",
    "epochs = range(max_epochs)\n",
    "print(\"Starting training\")\n",
    "for epoch in epochs:\n",
    "    # Randomize the presentation order in each epoch\n",
    "    permutation = torch.randperm(N_train)\n",
    "\n",
    "    loss_acumulated = 0.0\n",
    "    for i in tqdm(range(0, N_train, batch_size)):\n",
    "        # Get samples from the state space\n",
    "        indices = permutation[i:i+batch_size]\n",
    "        x = x_train[indices]\n",
    "\n",
    "        # Zero the parameter gradients\n",
    "        optimizer.zero_grad()\n",
    "\n",
    "        # Compute loss and backpropagate\n",
    "        loss = 0.0\n",
    "        loss += contraction_loss(x, u_net, M_net, lambda_M)\n",
    "        loss.backward()\n",
    "        \n",
    "        loss_acumulated += loss.detach().item()\n",
    "\n",
    "        # Update the parameters\n",
    "        optimizer.step()\n",
    "\n",
    "    # save progress\n",
    "    training_losses.append(loss_acumulated / (N_train / batch_size))\n",
    "\n",
    "    # Reset accumulated loss and get loss for the test set\n",
    "    loss_acumulated = 0.0\n",
    "    with torch.no_grad():\n",
    "        # Compute loss and backpropagate\n",
    "        loss = 0.0\n",
    "        CM_loss = contraction_loss(x_test, u_net, M_net, lambda_M)\n",
    "        loss += CM_loss\n",
    "\n",
    "        print(f\"Test loss: {round(loss.item(), 8)}\")\n",
    "        test_losses.append(loss.detach().item())\n",
    "\n",
    "        if loss <= best_loss:\n",
    "            best_loss = loss\n",
    "            filename = 'logs/cm_symmetric.pth.tar'\n",
    "            torch.save({'M_net': M_net.state_dict(),\n",
    "                        'u_net': u_net.state_dict(),\n",
    "                        'training_losses': training_losses,\n",
    "                        'test_losses': test_losses}, filename)\n",
    "        if best_loss == 0:\n",
    "            break\n",
    "    \n",
    "if best_loss == 0:\n",
    "    print(\"Contraction metric found!\")"
   ]
  },
  {
   "cell_type": "code",
   "execution_count": 24,
   "metadata": {},
   "outputs": [
    {
     "data": {
      "text/plain": [
       "tensor(0.0580, grad_fn=<AddBackward0>)"
      ]
     },
     "execution_count": 24,
     "metadata": {},
     "output_type": "execute_result"
    }
   ],
   "source": [
    "model_weights = torch.load(\"logs/cm_symmetric.pth.tar\")\n",
    "M = SymmetricContractionNet(n_dims)\n",
    "M.load_state_dict(model_weights[\"M_net\"])\n",
    "u = ControllerNet(n_dims, n_controls, A, B)\n",
    "u.load_state_dict(model_weights[\"u_net\"])\n",
    "contraction_loss(x_test[:100], u_net, M_net, lambda_M=0.01)"
   ]
  },
  {
   "cell_type": "code",
   "execution_count": 28,
   "metadata": {},
   "outputs": [],
   "source": [
    "# ONNX Can't export a normal ContractionNet instance, since the forward method uses bilinear and squeeze,\n",
    "# so we need to define an exportable version\n",
    "from itertools import product\n",
    "\n",
    "\n",
    "class ExportableSymmetricContractionNet(SymmetricContractionNet):\n",
    "    \"\"\"A class to represent a contraction metric using a generic symmetric matrix\"\"\"\n",
    "\n",
    "    def __init__(self, n_dims):\n",
    "        super(ExportableSymmetricContractionNet, self).__init__(n_dims)\n",
    "        \n",
    "        # Make a weight matrix for \"symmetrizing\" a vectorized matrix\n",
    "        self.Wam = torch.eye(n_dims * n_dims)\n",
    "        for i, j in product(range(n_dims), range(n_dims)):\n",
    "            for a, b in product(range(n_dims), range(n_dims)):\n",
    "                if i == b and j == a:\n",
    "                    self.Wam[i * n_dims + j, a * n_dims + b] += 1.0\n",
    "        \n",
    "    def forward(self, x):\n",
    "        return self.M(x)\n",
    "    \n",
    "    def M(self, x):\n",
    "        \"\"\"Get the metric matrix at state x\"\"\"\n",
    "        A = self.A(x)\n",
    "        M_vectorized = torch.matmul(self.Wam, A.unsqueeze(-1))\n",
    "\n",
    "        return M_vectorized\n",
    "    \n",
    "\n",
    "class ExportableControllerNet(ControllerNet):\n",
    "    \"\"\"A class to represent a linear controller for a dynamical system\"\"\"\n",
    "\n",
    "    def __init__(self, n_dims, n_controls, A, B):\n",
    "        super(ExportableControllerNet, self).__init__(n_dims, n_controls, A, B)\n",
    "\n",
    "    def forward(self, x):\n",
    "        \"\"\"Compute the control input for state x - bs x n_dims x 1\n",
    "        \n",
    "        returns bs x n_controls x 1\n",
    "        \"\"\"\n",
    "        return self.feedback_layer(x)"
   ]
  },
  {
   "cell_type": "code",
   "execution_count": 29,
   "metadata": {},
   "outputs": [
    {
     "data": {
      "text/plain": [
       "<All keys matched successfully>"
      ]
     },
     "execution_count": 29,
     "metadata": {},
     "output_type": "execute_result"
    }
   ],
   "source": [
    "# load networks\n",
    "model_weights = torch.load(\"logs/cm_symmetric.pth.tar\")\n",
    "u_net = ExportableControllerNet(n_dims, n_controls, A, B)\n",
    "u_net.load_state_dict(model_weights[\"u_net\"])\n",
    "M_net = ExportableSymmetricContractionNet(n_dims)\n",
    "M_net.load_state_dict(model_weights[\"M_net\"])"
   ]
  },
  {
   "cell_type": "code",
   "execution_count": 10,
   "metadata": {},
   "outputs": [],
   "source": [
    "# Export controller to nnet\n",
    "from NNet.utils.writeNNet import writeNNet \n",
    "\n",
    "weights = [u_net.feedback_layer.weight.detach().numpy()]\n",
    "biases = [np.zeros(n_controls)]\n",
    "input_mins = [-10.0, -10.0]\n",
    "input_maxes = [-10.0, -10.0]\n",
    "means = [0.0, 0.0, 0.0]\n",
    "ranges = [20, 20, 50]\n",
    "filename = \"logs/u_net.nnet\"\n",
    "writeNNet(weights, biases, input_mins, input_maxes, means, ranges, filename)"
   ]
  },
  {
   "cell_type": "code",
   "execution_count": 12,
   "metadata": {},
   "outputs": [],
   "source": [
    "# Export M net\n",
    "weights = [M_net.A.weight.detach().numpy(), M_net.Wam]\n",
    "biases = [M_net.A.bias.detach().numpy(), np.zeros(n_dims * n_dims)]\n",
    "input_mins = [-10.0, -10.0]\n",
    "input_maxes = [-10.0, -10.0]\n",
    "means = [0.0, 0.0] + [1.0] * (n_dims * n_dims)\n",
    "ranges = [20.0, 20.0] + [50.0] * (n_dims * n_dims)\n",
    "filename = \"logs/M_net.nnet\"\n",
    "writeNNet(weights, biases, input_mins, input_maxes, means, ranges, filename)"
   ]
  }
 ],
 "metadata": {
  "kernelspec": {
   "display_name": "Python (neural_control)",
   "language": "python",
   "name": "neural_control"
  },
  "language_info": {
   "codemirror_mode": {
    "name": "ipython",
    "version": 3
   },
   "file_extension": ".py",
   "mimetype": "text/x-python",
   "name": "python",
   "nbconvert_exporter": "python",
   "pygments_lexer": "ipython3",
   "version": "3.7.9"
  }
 },
 "nbformat": 4,
 "nbformat_minor": 4
}
