{
 "cells": [
  {
   "cell_type": "code",
   "execution_count": 68,
   "metadata": {},
   "outputs": [],
   "source": [
    "import numpy as np\n",
    "import matplotlib.pyplot as plt\n",
    "import matplotlib.patches as patches\n",
    "from tqdm.notebook import tqdm\n",
    "import torch\n",
    "from torch.autograd.functional import jacobian\n",
    "import torch.nn as nn\n",
    "import torch.nn.functional as F\n",
    "import torch.optim as optim\n",
    "import scipy.linalg"
   ]
  },
  {
   "cell_type": "markdown",
   "metadata": {},
   "source": [
    "## Step 1: Define the system dynamics"
   ]
  },
  {
   "cell_type": "code",
   "execution_count": 69,
   "metadata": {},
   "outputs": [],
   "source": [
    "# Start with a simple linear system\n",
    "# A single-integrator with damping\n",
    "alpha = 0.1;\n",
    "A = torch.tensor([[0, 1], [0, -alpha]]);\n",
    "B = torch.tensor([[0], [1.0]])\n",
    "\n",
    "def f(x, u):\n",
    "    return torch.matmul(A, x) + torch.matmul(B, u)\n",
    "\n",
    "n_dims = 2\n",
    "n_controls = 1"
   ]
  },
  {
   "cell_type": "markdown",
   "metadata": {},
   "source": [
    "## Step 2: Define the contraction metric and linear controller architecture"
   ]
  },
  {
   "cell_type": "code",
   "execution_count": 147,
   "metadata": {},
   "outputs": [],
   "source": [
    "class ControllerNet(nn.Module):\n",
    "    \"\"\"A class to represent a linear controller for a dynamical system\"\"\"\n",
    "\n",
    "    def __init__(self, n_dims, n_controls, A, B):\n",
    "        super(ControllerNet, self).__init__()\n",
    "\n",
    "        self.feedback_layer = nn.Linear(n_dims, n_controls, bias=False)\n",
    "        \n",
    "        self.n_dims = n_dims\n",
    "        self.n_controls = n_controls\n",
    "\n",
    "        # Initialize the controller using the LQR weights\n",
    "        Q = np.eye(n_dims)\n",
    "        R = np.eye(n_controls)\n",
    "        X = np.matrix(scipy.linalg.solve_continuous_are(A, B, Q, R))\n",
    "        K = np.matrix(scipy.linalg.inv(R)*(B.T*X))\n",
    "        K = -torch.tensor(K)\n",
    "        self.feedback_layer.weight = torch.nn.Parameter(K.float())\n",
    "        \n",
    "    def forward(self, x):\n",
    "        \"\"\"Compute the control input for state x - bs x n_dims x 1\n",
    "        \n",
    "        returns bs x n_controls x 1\n",
    "        \"\"\"\n",
    "        return self.feedback_layer(x.squeeze()).reshape(-1, self.n_controls, 1)\n",
    "    \n",
    "    def K(self, x):\n",
    "        \"\"\"Compute the jacobian of the control for state x\"\"\"\n",
    "        batch_size = x.shape[0]\n",
    "        K = torch.zeros(batch_size, self.n_controls, self.n_dims)\n",
    "        for batch_idx in range(batch_size):\n",
    "            K[batch_idx, :, :] = jacobian(self.forward, x[batch_idx], create_graph=True).reshape(self.n_controls, self.n_dims)\n",
    "        \n",
    "        return K\n",
    "\n",
    "\n",
    "class ContractionNet(nn.Module):\n",
    "    \"\"\"A class to represent a contraction metric for a dynamical system\"\"\"\n",
    "\n",
    "    def __init__(self, n_dims):\n",
    "        super(ContractionNet, self).__init__()\n",
    "        \n",
    "        self.n_dims = n_dims\n",
    "        \n",
    "        # For simplicity, let's just learn this as a constant function for now, then we\n",
    "        # can make it more complicated. We'll also use the trick of learning M = Theta.T @ Theta\n",
    "        self._Theta = nn.Parameter(torch.eye(n_dims))\n",
    "        \n",
    "    def M(self, x):\n",
    "        \"\"\"Get the metric matrix at state x\"\"\"\n",
    "        Theta = self._Theta.unsqueeze(0).repeat(x.shape[0], 1, 1)\n",
    "        Theta_T = Theta.transpose(1, 2)\n",
    "        M_matrix = torch.bmm(Theta_T, Theta)\n",
    "\n",
    "        return M_matrix\n",
    "    \n",
    "    def gradM(self, x):\n",
    "        \"\"\"Get the gradient of M wrt x\"\"\"\n",
    "        batch_size = x.shape[0]\n",
    "        gradM = torch.zeros(batch_size, self.n_dims, self.n_dims, self.n_dims)\n",
    "        M_flat = lambda x: self.M(x).reshape(-1, 4)\n",
    "        for batch_idx in range(batch_size):\n",
    "            # This is gross\n",
    "            J = jacobian(M_flat, x[batch_idx, :].unsqueeze(0), create_graph=True).squeeze().unsqueeze(0)\n",
    "            J = J.permute(2, 0, 1).reshape(self.n_dims, self.n_dims, self.n_dims)\n",
    "            gradM[batch_idx, :, :, :] = J\n",
    "            \n",
    "        \n",
    "        return gradM\n",
    "        \n",
    "    def forward(self, x):\n",
    "        \"\"\"Compute the value of the metric for state x\"\"\"\n",
    "        metric = F.bilinear(x, x, self.M(x))\n",
    "        \n",
    "        return metric"
   ]
  },
  {
   "cell_type": "markdown",
   "metadata": {},
   "source": [
    "## Step 3: Learn a controller with a contraction metric"
   ]
  },
  {
   "cell_type": "code",
   "execution_count": 146,
   "metadata": {},
   "outputs": [],
   "source": [
    "# Gather training and test points\n",
    "N_train = 10000\n",
    "N_test = 5000\n",
    "\n",
    "x_max = torch.ones((n_dims,))\n",
    "x_max[0] = 5.0\n",
    "x_max[1] = 5.0\n",
    "x_min = -x_max\n",
    "\n",
    "# Sample training points\n",
    "x_train = torch.rand((N_train, n_dims, 1))\n",
    "for i in range(n_dims):\n",
    "    x_train[:, i, 0] = x_train[:, i, 0] * (x_max[i] - x_min[i]) + x_min[i]\n",
    "\n",
    "# And some test points\n",
    "x_test = torch.rand((N_test, n_dims, 1))\n",
    "for i in range(n_dims):\n",
    "    x_test[:, i, 0] = x_test[:, i, 0] * (x_max[i] - x_min[i]) + x_min[i]"
   ]
  },
  {
   "cell_type": "code",
   "execution_count": 148,
   "metadata": {},
   "outputs": [
    {
     "data": {
      "text/plain": [
       "<matplotlib.collections.PathCollection at 0x7f3fb18a2790>"
      ]
     },
     "execution_count": 148,
     "metadata": {},
     "output_type": "execute_result"
    },
    {
     "data": {
      "image/png": "[encoded data removed]",
      "text/plain": [
       "<Figure size 432x288 with 1 Axes>"
      ]
     },
     "metadata": {
      "needs_background": "light"
     },
     "output_type": "display_data"
    }
   ],
   "source": [
    "# Make sure we got it\n",
    "plt.figure()\n",
    "plt.scatter(x_test[:, 0], x_test[:, 1], 0.1)"
   ]
  },
  {
   "cell_type": "code",
   "execution_count": 149,
   "metadata": {},
   "outputs": [],
   "source": [
    "def contraction_loss(x, u_net, M_net, lambda_M = 0.1):\n",
    "    \"\"\"Construct a loss based on the contraction metric property\n",
    "    \n",
    "    args:\n",
    "        x - N_goal x n_dims tensor of points\n",
    "        u_net - ControllerNet instance\n",
    "        M_net - ContractionNet instance\n",
    "        lambda_M - desired convergence rate\n",
    "    \"\"\"\n",
    "    loss = 0.0\n",
    "    batch_size = x.shape[0]\n",
    "    \n",
    "    # This is the simple loss (which Dawei describes as \"hard\") from eq(5)\n",
    "    # in the neural contraction paper.\n",
    "    \n",
    "    # First get the time derivative of M\n",
    "    M = M_net.M(x)\n",
    "    with torch.enable_grad():\n",
    "        gradM = M_net.gradM(x)\n",
    "        closed_loop_jacobian = A + torch.matmul(B, u_net.K(x))\n",
    "\n",
    "    u = u_net(x)\n",
    "    xdot = f(x, u)\n",
    "    Mdot = torch.zeros_like(M)\n",
    "    for batch_idx in range(batch_size):\n",
    "        for dim_idx in range(x.shape[1]):\n",
    "            Mdot[batch_idx, :, :] += gradM[batch_idx, :, :, dim_idx] * xdot[batch_idx, dim_idx]\n",
    "    \n",
    "    MABK = torch.bmm(M, closed_loop_jacobian)\n",
    "    \n",
    "    C1 = Mdot + MABK.transpose(1, 2) + MABK + 2 * lambda_M * M\n",
    "\n",
    "    # We want C1 to be positive definite\n",
    "#     N_check = 100\n",
    "#     x_check = torch.Tensor(N_check, x.shape[1]).uniform_(-1, 1)\n",
    "#     xC1x = F.bilinear(x_check, x_check, C1)\n",
    "#     loss += F.relu(xC1x).mean()\n",
    "    for batch_idx in range(batch_size):\n",
    "        eigenvalues, _ = torch.eig(C1[batch_idx], eigenvectors=True)\n",
    "        loss += F.relu(eigenvalues.max()) / batch_size\n",
    "\n",
    "    return loss"
   ]
  },
  {
   "cell_type": "markdown",
   "metadata": {},
   "source": [
    "Now that we've defined all the needed networks and loss functions, we can start training!"
   ]
  },
  {
   "cell_type": "code",
   "execution_count": 151,
   "metadata": {},
   "outputs": [
    {
     "name": "stdout",
     "output_type": "stream",
     "text": [
      "Starting training\n",
      "Theta:\n",
      "Parameter containing:\n",
      "tensor([[1., 0.],\n",
      "        [0., 1.]], requires_grad=True)\n",
      "K:\n",
      "Parameter containing:\n",
      "tensor([[-1.0000, -1.6349]], requires_grad=True)\n"
     ]
    },
    {
     "data": {
      "application/vnd.jupyter.widget-view+json": {
       "model_id": "5ac13ce229e042b5acbc1530b5ced501",
       "version_major": 2,
       "version_minor": 0
      },
      "text/plain": [
       "HBox(children=(HTML(value=''), FloatProgress(value=0.0, max=10000.0), HTML(value='')))"
      ]
     },
     "metadata": {},
     "output_type": "display_data"
    },
    {
     "name": "stdout",
     "output_type": "stream",
     "text": [
      "\n",
      "Test loss: 0.0\n",
      "Theta:\n",
      "Parameter containing:\n",
      "tensor([[0.9715, 0.0350],\n",
      "        [0.0350, 0.9628]], requires_grad=True)\n",
      "K:\n",
      "Parameter containing:\n",
      "tensor([[-1.0371, -1.5988]], requires_grad=True)\n"
     ]
    }
   ],
   "source": [
    "# Define hyperparameters for the learning process\n",
    "learning_rate = 1e-3\n",
    "batch_size = 1\n",
    "max_epochs = 10\n",
    "\n",
    "\n",
    "# Define the network for learning the controller and certificates\n",
    "u_net = ControllerNet(n_dims, n_controls, A, B)\n",
    "M_net = ContractionNet(n_dims)\n",
    "lambda_M = 0.05\n",
    "\n",
    "# Train the networks\n",
    "optimizer = optim.Adam(list(u_net.parameters())\n",
    "                       + list(M_net.parameters()), lr=learning_rate)\n",
    "\n",
    "# Also log histories of training and test loss\n",
    "training_losses = []\n",
    "test_losses = []\n",
    "best_loss = np.inf\n",
    "\n",
    "epochs = range(max_epochs)\n",
    "print(\"Starting training\")\n",
    "print(f\"Theta:\\n{M_net._Theta}\")\n",
    "print(f\"K:\\n{u_net.feedback_layer.weight}\")\n",
    "for epoch in epochs:\n",
    "    # Randomize the presentation order in each epoch\n",
    "    permutation = torch.randperm(N_train)\n",
    "\n",
    "    loss_acumulated = 0.0\n",
    "    for i in tqdm(range(0, N_train, batch_size)):\n",
    "        # Get samples from the state space\n",
    "        indices = permutation[i:i+batch_size]\n",
    "        x = x_train[indices]\n",
    "\n",
    "        # Zero the parameter gradients\n",
    "        optimizer.zero_grad()\n",
    "\n",
    "        # Compute loss and backpropagate\n",
    "        loss = 0.0\n",
    "        loss += contraction_loss(x, u_net, M_net, lambda_M)\n",
    "        loss.backward()\n",
    "        \n",
    "        loss_acumulated += loss.detach().item()\n",
    "\n",
    "        # Update the parameters\n",
    "        optimizer.step()\n",
    "\n",
    "    # save progress\n",
    "    training_losses.append(loss_acumulated / (N_train / batch_size))\n",
    "\n",
    "    # Reset accumulated loss and get loss for the test set\n",
    "    loss_acumulated = 0.0\n",
    "    with torch.no_grad():\n",
    "        # Compute loss and backpropagate\n",
    "        loss = 0.0\n",
    "        CM_loss = contraction_loss(x_test, u_net, M_net, lambda_M)\n",
    "        loss += CM_loss\n",
    "\n",
    "        print(f\"Test loss: {round(loss.item(), 8)}\")\n",
    "        test_losses.append(loss.detach().item())\n",
    "\n",
    "        if loss <= best_loss:\n",
    "            best_loss = loss\n",
    "            filename = 'logs/cm_loss.pth.tar'\n",
    "            torch.save({'M_net': M_net.state_dict(),\n",
    "                        'u_net': u_net.state_dict(),\n",
    "                        'training_losses': training_losses,\n",
    "                        'test_losses': test_losses}, filename)\n",
    "        if best_loss == 0:\n",
    "            break\n",
    "    \n",
    "if best_loss == 0:\n",
    "    print(\"Contraction metric found!\")\n",
    "    print(f\"Theta:\\n{M_net._Theta}\")\n",
    "    print(f\"K:\\n{u_net.feedback_layer.weight}\")"
   ]
  },
  {
   "cell_type": "code",
   "execution_count": null,
   "metadata": {},
   "outputs": [],
   "source": []
  }
 ],
 "metadata": {
  "kernelspec": {
   "display_name": "Python (neural_control)",
   "language": "python",
   "name": "neural_control"
  },
  "language_info": {
   "codemirror_mode": {
    "name": "ipython",
    "version": 3
   },
   "file_extension": ".py",
   "mimetype": "text/x-python",
   "name": "python",
   "nbconvert_exporter": "python",
   "pygments_lexer": "ipython3",
   "version": "3.7.9"
  }
 },
 "nbformat": 4,
 "nbformat_minor": 4
}
