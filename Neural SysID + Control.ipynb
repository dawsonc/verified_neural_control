{
 "cells": [
  {
   "cell_type": "code",
   "execution_count": 31,
   "metadata": {},
   "outputs": [],
   "source": [
    "import numpy as np\n",
    "import matplotlib.pyplot as plt\n",
    "from tqdm.notebook import tqdm\n",
    "import torch\n",
    "import torch.nn as nn\n",
    "import torch.optim as optim"
   ]
  },
  {
   "cell_type": "markdown",
   "metadata": {},
   "source": [
    "# Verified Neural System Identification and Control\n",
    "\n",
    "This notebook contains some exploratory code, directed towards the problem of \n",
    "\n",
    "1. learning the dynamics of a discrete-time dynamical system,\n",
    "2. learning (simultaneously) a stabilizing controller for the system and a Lyapunov stability certificate, and\n",
    "3. verifying that the Lyapunov property holds despite some bounded error in system identification"
   ]
  },
  {
   "cell_type": "markdown",
   "metadata": {},
   "source": [
    "## Theory\n",
    "\n",
    "Consider a discrete-time dynamical system $x_{t+1} = f(x_t, u_t)$, where $x \\in \\mathcal{X} \\subset \\mathbb{R}^n$ and $u \\in \\mathcal{U} \\subset \\mathbb{R}^m$, equipped with a feedback controller $u = \\pi(x)$. This gives us the closed-loop dynamics $$x_{t+1} = f(x_t, \\pi(x_t)) = f_\\pi(x_t)$$\n",
    "\n",
    "Assume the closed-loop system has a fixed point $x^*$ such that $f_\\pi(x^*) = x^*$. Let $V(x): \\mathbb{R}^n \\to \\mathbb{R}$. Then the closed loop system will be asymptotically stable at $x^*$ if the following hold:\n",
    "\n",
    "1. $V(x^*) = 0$\n",
    "2. $V(x) > 0;\\quad \\forall x \\in (\\mathcal{X} - x^*)$\n",
    "3. $V(x_{t+1}) - V(x_t) < 0;\\quad \\forall x \\in (\\mathcal{X} - x^*)$\n",
    "\n",
    "We can also express (3) in terms of the closed-loop dynamics: $V\\circ f_\\pi(x_t) - V(x_t) < 0$."
   ]
  },
  {
   "cell_type": "markdown",
   "metadata": {},
   "source": [
    "## Approach\n",
    "\n",
    "We will approach this problem in three steps.\n",
    "\n",
    "1. First, we will learn the open-loop system dynamics $f(x, u)$ from trajectories, using a neural network with ReLU activations.\n",
    "2. Next, we will fix the learned dynamics and simultaneously learn a controller $\\pi(x)$ and Lyapunov function $V(x)$, using a loss that guides us towards satisfying conditions (1)-(3) above.\n",
    "3. Finally, we will verify that conditions (2) and (3) hold throughout the domain."
   ]
  },
  {
   "cell_type": "markdown",
   "metadata": {},
   "source": [
    "## Step 1: Learn dynamics from trajectories\n",
    "\n",
    "We'll use a two-link pendulum with actuation only at the elbow (i.e. an acrobot) as our example system for this problem (this is a challenging control problem, so maybe we downgrade to a simple inverted pendulum if it's too hard)."
   ]
  },
  {
   "cell_type": "code",
   "execution_count": 139,
   "metadata": {},
   "outputs": [],
   "source": [
    "# Start by building an oracle for the system dynamics. This will be used to generate training trajectories\n",
    "def f_true(x, u):\n",
    "    \"\"\"Acrobot discrete-time dynamics.\n",
    "    Source: http://underactuated.mit.edu/acrobot.html#section1\n",
    "    \"\"\"\n",
    "    # Define parameters\n",
    "    dt = 0.01  # timestep\n",
    "    g = 9.81   # gravitational acceleration\n",
    "    l1 = 1     # Length of link 1\n",
    "    lc1 = 0.5  # Distance from pivot to link 1 center of mass\n",
    "    m1 = 0.5   # Mass of link 1\n",
    "    I1 = 1     # Rotational inertia of link 1\n",
    "    lc2 = 0.5  # Distance from joint to link 2 center of mass\n",
    "    m2 = 0.5   # Mass of link 2\n",
    "    I2 = 1     # Rotational inertia of link 2\n",
    "    \n",
    "    # Unpack state variables\n",
    "    assert x.shape == (4, 1)\n",
    "    assert u.shape == (1, 1)\n",
    "    q1 = x[0, 0]      # angle of link 1 w.r.t. vertical\n",
    "    q2 = x[1, 0]      # angle of link 2 w.r.t. link 1\n",
    "    q1_dot = x[2, 0]  # link 1 angular velocity\n",
    "    q2_dot = x[3, 0]  # link 2 angular velocity\n",
    "    \n",
    "    # Construct manipulator equation matrices\n",
    "    # Mass matrix\n",
    "    M = np.array([\n",
    "        [I1 + I2 + m2*l1**2 + 2*m2*l1*lc2*np.cos(q2), I2 + m2*l1*lc2*np.cos(q2)],\n",
    "        [I2 + m2*l1*lc2*np.cos(q2), I2]\n",
    "    ])\n",
    "    # Coriolis/damping matrix\n",
    "    C = np.array([\n",
    "        [-2*m2*l1*lc2*np.sin(q2)*q2_dot, -m2*l1*lc2*np.sin(q2)],\n",
    "        [m2*l1*lc2*np.sin(q2)*q1_dot, 0]\n",
    "    ])\n",
    "    # Gravitational torque\n",
    "    tau_g = np.array([\n",
    "        [-m1*g*lc1*np.sin(q1) - m2*g*(l1*np.sin(q1) + lc2*np.sin(q1+q2))],\n",
    "        [-m2*g*lc2*np.sin(q1+q2)]\n",
    "    ])\n",
    "    # Actuation matrix\n",
    "    B = np.array([\n",
    "        [0],\n",
    "        [1]\n",
    "    ])\n",
    "    \n",
    "    # Now we can construct the derivatives\n",
    "    xdot = np.zeros(x.shape)\n",
    "    # First derivatives of q1 and q2 are q1_dot and q2_dot, respectively\n",
    "    xdot[0, 0] = q1_dot\n",
    "    xdot[1, 0] = q2_dot\n",
    "    # Angular accelerations are given by a slightly more annoying formula\n",
    "    # source: http://underactuated.mit.edu/intro.html#section2\n",
    "    xdot[2:, :] = np.linalg.inv(M) @ (tau_g + B @ u - C @ x[2:, :])\n",
    "    \n",
    "    # Apply a simple euler integration to advance the dynamics\n",
    "    new_x = np.copy(x)\n",
    "    new_x += xdot * dt\n",
    "    \n",
    "    return new_x\n"
   ]
  },
  {
   "cell_type": "code",
   "execution_count": 244,
   "metadata": {},
   "outputs": [
    {
     "name": "stdout",
     "output_type": "stream",
     "text": [
      "Gathering training data...\n"
     ]
    },
    {
     "data": {
      "application/vnd.jupyter.widget-view+json": {
       "model_id": "e1a06a38d9e84126b0e6b50c04ce30bb",
       "version_major": 2,
       "version_minor": 0
      },
      "text/plain": [
       "HBox(children=(HTML(value=''), FloatProgress(value=0.0, max=1.0), HTML(value='')))"
      ]
     },
     "metadata": {},
     "output_type": "display_data"
    },
    {
     "name": "stdout",
     "output_type": "stream",
     "text": [
      "\n",
      "Gathering test data...\n"
     ]
    },
    {
     "data": {
      "application/vnd.jupyter.widget-view+json": {
       "model_id": "005fcd68f6834a64afa51c995164d006",
       "version_major": 2,
       "version_minor": 0
      },
      "text/plain": [
       "HBox(children=(HTML(value=''), FloatProgress(value=0.0, max=1.0), HTML(value='')))"
      ]
     },
     "metadata": {},
     "output_type": "display_data"
    },
    {
     "name": "stdout",
     "output_type": "stream",
     "text": [
      "\n"
     ]
    }
   ],
   "source": [
    "# Gather training and test data by running a bunch of trajectories.\n",
    "# We'll use the test data to characterize the error in the learned dynamics.\n",
    "N_train = 1\n",
    "N_test = 1\n",
    "\n",
    "def gather_trajectory_data(N, T, x_min, x_max, u_max):\n",
    "    \"\"\"Simulate N random trajectories for a fixed number of steps.\n",
    "    \n",
    "    args:\n",
    "        N - the number of trajectories to generate\n",
    "        T - the length of each trajectory\n",
    "        x_min/x_max - define a bounding box on initial conditions\n",
    "        u_max - Maximum amplitude of control inputs\n",
    "    returns\n",
    "        a (N x T x 4) numpy array of the trajectories and a (N x 1) numpy array of control inputs\n",
    "    \"\"\"\n",
    "    trajectories = np.zeros((N, T, 4))\n",
    "    controls = np.zeros((N, T))\n",
    "    \n",
    "    # To ensure persistent excitation, we generate control inputs as a random mix of sinusoids\n",
    "    frequencies = 2*np.pi / T * np.arange(0, T)\n",
    "    timesteps = np.arange(0, T)\n",
    "    control_basis = np.cos(frequencies.reshape((T, 1)) * timesteps)\n",
    "    \n",
    "    # Create each trajectory by simulating with random control inputs from a random starting state\n",
    "    for i in tqdm(range(N)):\n",
    "        control_weighting = np.random.rand(T).reshape((1, T))\n",
    "        control_input = control_weighting @ control_basis\n",
    "        control_input *= u_max / np.max(control_input)\n",
    "        controls[i, :] = control_input\n",
    "        \n",
    "        trajectories[i, 0, :] = np.random.uniform(x_min, x_max).reshape((4,))\n",
    "        \n",
    "        # Simulate!\n",
    "        for t in range(T-1):\n",
    "            x = trajectories[i, t, :].reshape((4, 1))\n",
    "            u = control_input[0, t].reshape((1, 1))\n",
    "            trajectories[i, t+1, :] = f_true(x, u).reshape((4,))\n",
    "    \n",
    "    return trajectories, controls\n",
    "\n",
    "\n",
    "x_min = np.zeros((4, 1))\n",
    "x_min[0, 0] = -np.pi\n",
    "x_min[1, 0] = -np.pi\n",
    "x_min[2, 0] = -2*np.pi\n",
    "x_min[3, 0] = -2*np.pi\n",
    "x_max = -1 * x_min\n",
    "u_max = 2\n",
    "T = 1000  # discretized with dt = 0.01, so this is a 10-second trajectory\n",
    "print(\"Gathering training data...\")\n",
    "training_trajectories, training_controls = gather_trajectory_data(N_train, T, x_min, x_max, u_max)\n",
    "print(\"Gathering test data...\")\n",
    "test_trajectories, test_controls = gather_trajectory_data(N_test, T, x_min, x_max, u_max)"
   ]
  },
  {
   "cell_type": "code",
   "execution_count": 245,
   "metadata": {},
   "outputs": [],
   "source": [
    "# Convert trajectories to torch tensors\n",
    "training_trajectories_torch = torch.from_numpy(training_trajectories).float()\n",
    "training_controls_torch = torch.from_numpy(training_controls).float()\n",
    "test_trajectories_torch = torch.from_numpy(test_trajectories).float()\n",
    "test_controls_torch = torch.from_numpy(test_controls).float()"
   ]
  },
  {
   "cell_type": "code",
   "execution_count": 256,
   "metadata": {},
   "outputs": [
    {
     "data": {
      "application/vnd.jupyter.widget-view+json": {
       "model_id": "1669fb7c332b4860a038b2e2c47076c8",
       "version_major": 2,
       "version_minor": 0
      },
      "text/plain": [
       "HBox(children=(HTML(value=''), FloatProgress(value=0.0, max=8000.0), HTML(value='')))"
      ]
     },
     "metadata": {},
     "output_type": "display_data"
    },
    {
     "name": "stdout",
     "output_type": "stream",
     "text": [
      "\n"
     ]
    }
   ],
   "source": [
    "# Define the network for learning the dynamics\n",
    "n_hidden_layers = 8\n",
    "hidden_layer_size = 8\n",
    "\n",
    "n_dims = 4\n",
    "n_controls = 1\n",
    "\n",
    "layers = []\n",
    "# Input layer: inputs are states and controls, outputs are hidden layer activations\n",
    "input_layer = [nn.Linear(n_dims + n_controls, hidden_layer_size), nn.ReLU()]\n",
    "layers = layers + input_layer\n",
    "# Hidden layers: inputs and outputs are the same size\n",
    "for i in range(n_hidden_layers - 1):\n",
    "    hidden_layer = [nn.Linear(hidden_layer_size, hidden_layer_size), nn.ReLU()]\n",
    "    layers = layers + hidden_layer\n",
    "# Output layer: outputs new states\n",
    "layers = layers + [nn.Linear(hidden_layer_size, n_dims)]\n",
    "\n",
    "# Build the network from these components\n",
    "dynamics_model = nn.Sequential(*layers)\n",
    "dynamics_model\n",
    "\n",
    "# Train the dynamics model!\n",
    "\n",
    "# Define hyperparameters for the learning process\n",
    "learning_rate = 0.001\n",
    "momentum = 0.1\n",
    "min_epochs = 15\n",
    "max_epochs = 8000\n",
    "max_test_loss_increases = 3\n",
    "\n",
    "# Define the loss function\n",
    "loss_fn = nn.MSELoss()\n",
    "\n",
    "# Train the IK network\n",
    "optimizer = optim.SGD(dynamics_model.parameters(), lr=learning_rate, momentum=momentum)\n",
    "\n",
    "# Keep track of test set loss for early stopping\n",
    "prev_best_test_set_loss = np.inf\n",
    "test_loss_increases = 0\n",
    "\n",
    "# Also log histories of training and test loss\n",
    "training_losses = []\n",
    "test_losses = []\n",
    "\n",
    "for epoch in tqdm(range(max_epochs)):\n",
    "    \n",
    "    # Randomize the presentation order in each epoch\n",
    "    permutation = torch.randperm(N_train)\n",
    "    \n",
    "    loss_acumulated = 0.0\n",
    "    for i in range(0, N_train):\n",
    "        # For each trajectory, create the pairs of (xt, ut) and x_{t+1}\n",
    "        trajectory = training_trajectories_torch[i, :T-1, :]\n",
    "        controls = training_controls_torch[i, :T-1].reshape(T-1, 1)\n",
    "        inputs = torch.cat([trajectory, controls], 1)\n",
    "        x_next = training_trajectories_torch[i, 1:, :]\n",
    "        \n",
    "        # Zero the parameter gradients\n",
    "        optimizer.zero_grad()\n",
    "        \n",
    "        # Forward pass\n",
    "        x_next_predicted = dynamics_model(inputs)\n",
    "        \n",
    "        # Compute loss based on mean squared difference in next state\n",
    "        loss = loss_fn(x_next_predicted, x_next)\n",
    "        loss_acumulated += loss.item()\n",
    "        loss.backward()\n",
    "        \n",
    "        # Update the parameters\n",
    "        optimizer.step()\n",
    "        \n",
    "    # save progress\n",
    "    training_losses.append(loss_acumulated / N_train)\n",
    "    \n",
    "    # Reset accumulated loss and get loss for the test set\n",
    "    loss_acumulated = 0.0\n",
    "    with torch.no_grad():\n",
    "        # Accumulate loss from each trajectory in the test set\n",
    "        for i in range(0, N_test):\n",
    "            # For each trajectory, create the pairs of (xt, ut) and x_{t+1}\n",
    "            trajectory = test_trajectories_torch[i, :T-1, :]\n",
    "            controls = test_controls_torch[i, :T-1].reshape(T-1, 1)\n",
    "            inputs = torch.cat([trajectory, controls], 1)\n",
    "            x_next = test_trajectories_torch[i, 1:, :]\n",
    "            \n",
    "            x_next_predicted = dynamics_model(inputs)\n",
    "\n",
    "            loss = loss_fn(x_next_predicted, x_next)\n",
    "            loss_acumulated += loss\n",
    "        \n",
    "        loss = loss_acumulated / N_test\n",
    "        test_losses.append(loss)\n",
    "\n",
    "#         if epoch > min_epochs and loss > prev_best_test_set_loss:\n",
    "#             print(f\"Test loss increased on this epoch ({epoch}).\")\n",
    "#             test_loss_increases += 1\n",
    "#             if test_loss_increases >= max_test_loss_increases:\n",
    "#                 print(\"Too many increases. Stopping early.\")\n",
    "# #                 break\n",
    "#         if loss < prev_best_test_set_loss:\n",
    "#             prev_best_test_set_loss = loss\n",
    "#             test_loss_increases = 0"
   ]
  },
  {
   "cell_type": "code",
   "execution_count": 257,
   "metadata": {},
   "outputs": [
    {
     "data": {
      "image/png": "[encoded data removed]",
      "text/plain": [
       "<Figure size 432x288 with 1 Axes>"
      ]
     },
     "metadata": {
      "needs_background": "light"
     },
     "output_type": "display_data"
    }
   ],
   "source": [
    "# Plot the loss curves\n",
    "plt.plot(range(epoch+1), training_losses)\n",
    "plt.plot(range(epoch+1), test_losses)\n",
    "plt.gca().set_xticks(np.arange(0, epoch+1, 100))\n",
    "plt.xlabel(\"Epoch\")\n",
    "plt.ylabel(\"MSE Prediction Loss\")\n",
    "plt.legend([\"Training\", \"Test\"])\n",
    "plt.yscale(\"log\")"
   ]
  },
  {
   "cell_type": "code",
   "execution_count": 258,
   "metadata": {},
   "outputs": [
    {
     "data": {
      "text/plain": [
       "<matplotlib.legend.Legend at 0x7f5f993edbd0>"
      ]
     },
     "execution_count": 258,
     "metadata": {},
     "output_type": "execute_result"
    },
    {
     "data": {
      "image/png": "[encoded data removed]",
      "text/plain": [
       "<Figure size 432x288 with 1 Axes>"
      ]
     },
     "metadata": {
      "needs_background": "light"
     },
     "output_type": "display_data"
    }
   ],
   "source": [
    "# Now we can see how good these prediction are by trying to recreate the first trajectory\n",
    "controls = training_controls_torch[0, :].reshape(T, 1)\n",
    "true_trajectory = training_trajectories_torch[0, :, :]\n",
    "recreated_trajectory = torch.zeros_like(true_trajectory)\n",
    "recreated_trajectory[0, :] = true_trajectory[0, :]\n",
    "\n",
    "with torch.no_grad():\n",
    "    for t in range(1, T):\n",
    "        u = controls[t-1, :].reshape(1, 1)\n",
    "        x = recreated_trajectory[t-1, :].reshape(4, 1)\n",
    "        inputs = torch.cat([x, u], 0).reshape(1, 1, 5)\n",
    "        x_next = dynamics_model(inputs)\n",
    "        recreated_trajectory[t, :] = x_next\n",
    "\n",
    "plt.plot(range(T), recreated_trajectory[:, 0], 'x')\n",
    "plt.plot(range(T), true_trajectory[:, 0], 'x')\n",
    "plt.legend([\"NN\", \"True\"])"
   ]
  }
 ],
 "metadata": {
  "kernelspec": {
   "display_name": "Python [conda env:neural_control] *",
   "language": "python",
   "name": "conda-env-neural_control-py"
  },
  "language_info": {
   "codemirror_mode": {
    "name": "ipython",
    "version": 3
   },
   "file_extension": ".py",
   "mimetype": "text/x-python",
   "name": "python",
   "nbconvert_exporter": "python",
   "pygments_lexer": "ipython3",
   "version": "3.7.9"
  }
 },
 "nbformat": 4,
 "nbformat_minor": 4
}
