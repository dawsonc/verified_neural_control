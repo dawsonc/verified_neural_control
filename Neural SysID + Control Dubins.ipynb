{
 "cells": [
  {
   "cell_type": "code",
   "execution_count": 91,
   "metadata": {},
   "outputs": [],
   "source": [
    "import numpy as np\n",
    "import matplotlib.pyplot as plt\n",
    "from tqdm.notebook import tqdm\n",
    "import torch\n",
    "import torch.nn as nn\n",
    "import torch.optim as optim"
   ]
  },
  {
   "cell_type": "markdown",
   "metadata": {},
   "source": [
    "# Verified Neural System Identification and Control\n",
    "\n",
    "This notebook contains some exploratory code, directed towards the problem of \n",
    "\n",
    "1. learning the dynamics of a discrete-time dynamical system,\n",
    "2. learning (simultaneously) a stabilizing controller for the system and a Lyapunov stability certificate, and\n",
    "3. verifying that the Lyapunov property holds despite some bounded error in system identification"
   ]
  },
  {
   "cell_type": "markdown",
   "metadata": {},
   "source": [
    "## Theory\n",
    "\n",
    "Consider a discrete-time dynamical system $x_{t+1} = f(x_t, u_t)$, where $x \\in \\mathcal{X} \\subset \\mathbb{R}^n$ and $u \\in \\mathcal{U} \\subset \\mathbb{R}^m$, equipped with a feedback controller $u = \\pi(x)$. This gives us the closed-loop dynamics $$x_{t+1} = f(x_t, \\pi(x_t)) = f_\\pi(x_t)$$\n",
    "\n",
    "Assume the closed-loop system has a fixed point $x^*$ such that $f_\\pi(x^*) = x^*$. Let $V(x): \\mathbb{R}^n \\to \\mathbb{R}$. Then the closed loop system will be asymptotically stable at $x^*$ if the following hold:\n",
    "\n",
    "1. $V(x^*) = 0$\n",
    "2. $V(x) > 0;\\quad \\forall x \\in (\\mathcal{X} - x^*)$\n",
    "3. $V(x_{t+1}) - V(x_t) < 0;\\quad \\forall x \\in (\\mathcal{X} - x^*)$\n",
    "\n",
    "We can also express (3) in terms of the closed-loop dynamics: $V\\circ f_\\pi(x_t) - V(x_t) < 0$."
   ]
  },
  {
   "cell_type": "markdown",
   "metadata": {},
   "source": [
    "## Approach\n",
    "\n",
    "We will approach this problem in three steps.\n",
    "\n",
    "1. First, we will learn the open-loop system dynamics $f(x, u)$ from trajectories, using a neural network with ReLU activations.\n",
    "2. Next, we will fix the learned dynamics and simultaneously learn a controller $\\pi(x)$ and Lyapunov function $V(x)$, using a loss that guides us towards satisfying conditions (1)-(3) above.\n",
    "3. Finally, we will verify that conditions (2) and (3) hold throughout the domain."
   ]
  },
  {
   "cell_type": "markdown",
   "metadata": {},
   "source": [
    "## Step 1: Learn dynamics from trajectories\n",
    "\n",
    "We'll use a Dubins car model here and try to learn the dynamics (I tried an acrobot model and it was too hard, so I'm starting with this easier model instead)."
   ]
  },
  {
   "cell_type": "code",
   "execution_count": 181,
   "metadata": {},
   "outputs": [],
   "source": [
    "# Start by building an oracle for the system dynamics. This will be used to generate training trajectories\n",
    "def f_true(x, u):\n",
    "    \"\"\"Acrobot discrete-time dynamics.\n",
    "    Source: http://underactuated.mit.edu/acrobot.html#section1\n",
    "    \"\"\"\n",
    "    # Define parameters\n",
    "    dt = 0.1  # timestep\n",
    "    v = 1     # forward speed of the car\n",
    "    \n",
    "    # Unpack state variables\n",
    "    assert x.shape == (3, 1)  # x, y, theta\n",
    "    assert u.shape == (1, 1)\n",
    "    \n",
    "    # Construct the derivatives\n",
    "    xdot = np.zeros(x.shape)\n",
    "    # First derivatives of x, y, and theta\n",
    "    xdot[0, 0] = v*np.cos(x[2, 0])\n",
    "    xdot[1, 0] = v*np.sin(x[2, 0])\n",
    "    xdot[2, 0] = u[0, 0]\n",
    "    \n",
    "    # Apply a simple euler integration to advance the dynamics\n",
    "    new_x = np.copy(x)\n",
    "    new_x += xdot * dt\n",
    "    \n",
    "    return new_x\n"
   ]
  },
  {
   "cell_type": "code",
   "execution_count": 182,
   "metadata": {},
   "outputs": [],
   "source": [
    "# Gather training and test data by sampling directly from the joint state/action space\n",
    "# We'll use the test data to characterize the error in the learned dynamics.\n",
    "N_train = 1000000\n",
    "N_test = 200000\n",
    "\n",
    "x_min = np.zeros((3, 1))\n",
    "x_min[0, 0] = -10\n",
    "x_min[1, 0] = -10\n",
    "x_min[2, 0] = -np.pi\n",
    "x_max = -1 * x_min\n",
    "u_max = np.array([[20]])\n",
    "u_min = -u_max\n",
    "\n",
    "sample_min = np.concatenate((x_min, u_min))\n",
    "sample_max = np.concatenate((x_max, u_max))\n",
    "\n",
    "x_train = np.random.uniform(sample_min, sample_max, (4, N_train)).transpose()\n",
    "x_test = np.random.uniform(sample_min, sample_max, (4, N_test)).transpose()\n",
    "\n",
    "f_train = np.zeros((N_train, 3))\n",
    "for i, x in enumerate(x_train):\n",
    "    f_train[i, :] = f_true(x[:3].reshape(3, 1), x[-1].reshape(1, 1)).reshape(3,)\n",
    "f_test = np.zeros((N_test, 3))\n",
    "for i, x in enumerate(x_test):\n",
    "    f_test[i, :] = f_true(x[:3].reshape(3, 1), x[-1].reshape(1, 1)).reshape(3,)"
   ]
  },
  {
   "cell_type": "code",
   "execution_count": 183,
   "metadata": {},
   "outputs": [],
   "source": [
    "# Convert trajectories to torch tensors\n",
    "x_train_torch = torch.from_numpy(x_train).float()\n",
    "x_test_torch = torch.from_numpy(x_test).float()\n",
    "f_train_torch = torch.from_numpy(f_train).float()\n",
    "f_test_torch = torch.from_numpy(f_test).float()"
   ]
  },
  {
   "cell_type": "code",
   "execution_count": 191,
   "metadata": {},
   "outputs": [
    {
     "data": {
      "application/vnd.jupyter.widget-view+json": {
       "model_id": "830faeb2e6b14139bbc1c52fe4ab511d",
       "version_major": 2,
       "version_minor": 0
      },
      "text/plain": [
       "HBox(children=(HTML(value=''), FloatProgress(value=0.0, max=1000.0), HTML(value='')))"
      ]
     },
     "metadata": {},
     "output_type": "display_data"
    },
    {
     "name": "stdout",
     "output_type": "stream",
     "text": [
      "\n"
     ]
    }
   ],
   "source": [
    "# Define the network for learning the dynamics\n",
    "n_hidden_layers = 2\n",
    "hidden_layer_size = 128\n",
    "\n",
    "n_dims = 3\n",
    "n_controls = 1\n",
    "\n",
    "layers = []\n",
    "# Input layer: inputs are states and controls, outputs are hidden layer activations\n",
    "input_layer = [nn.Linear(n_dims + n_controls, hidden_layer_size), nn.ReLU()]\n",
    "layers = layers + input_layer\n",
    "# Hidden layers: inputs and outputs are the same size\n",
    "for i in range(n_hidden_layers - 1):\n",
    "    hidden_layer = [nn.Linear(hidden_layer_size, hidden_layer_size), nn.ReLU()]\n",
    "    layers = layers + hidden_layer\n",
    "# Output layer: outputs new states\n",
    "layers = layers + [nn.Linear(hidden_layer_size, n_dims)]\n",
    "\n",
    "# Build the network from these components\n",
    "dynamics_model = nn.Sequential(*layers)\n",
    "dynamics_model\n",
    "\n",
    "# Train the dynamics model!\n",
    "\n",
    "# Define hyperparameters for the learning process\n",
    "learning_rate = 5e-4\n",
    "batch_size = 1024\n",
    "max_epochs = 1000\n",
    "\n",
    "def adjust_learning_rate(optimizer, epoch):\n",
    "    \"\"\"Sets the learning rate to the initial LR decayed by 10 every 30 epochs\"\"\"\n",
    "    lr = learning_rate * (0.1 ** (epoch // 50))\n",
    "    for param_group in optimizer.param_groups:\n",
    "        param_group['lr'] = lr\n",
    "\n",
    "# Define the loss function\n",
    "loss_fn = nn.L1Loss()\n",
    "\n",
    "# Train the IK network\n",
    "optimizer = optim.Adam(dynamics_model.parameters(), lr=learning_rate)\n",
    "\n",
    "# Also log histories of training and test loss\n",
    "training_losses = []\n",
    "test_losses = []\n",
    "best_loss = np.inf\n",
    "\n",
    "epochs = tqdm(range(max_epochs))\n",
    "for epoch in epochs:\n",
    "    # Set the adaptive learning rate\n",
    "    adjust_learning_rate(optimizer, epoch)\n",
    "    \n",
    "    # Randomize the presentation order in each epoch\n",
    "    permutation = torch.randperm(N_train)\n",
    "    \n",
    "    loss_acumulated = 0.0\n",
    "    for i in range(0, N_train, batch_size):\n",
    "        # Get input/output pairs\n",
    "        indices = permutation[i:i+batch_size]\n",
    "        state_control_pairs = x_train_torch[indices]\n",
    "        next_state = f_train_torch[indices]\n",
    "        \n",
    "        # Zero the parameter gradients\n",
    "        optimizer.zero_grad()\n",
    "        \n",
    "        # Forward pass\n",
    "        predicted_next_state = dynamics_model(state_control_pairs)\n",
    "        \n",
    "        # Compute loss and backpropagate\n",
    "        loss = loss_fn(predicted_next_state, next_state)\n",
    "        loss += torch.max(torch.norm(predicted_next_state - next_state, dim=1))\n",
    "        loss_acumulated += loss.item()\n",
    "        loss.backward()\n",
    "        \n",
    "        # Update the parameters\n",
    "        optimizer.step()\n",
    "        \n",
    "    # save progress\n",
    "    training_losses.append(loss_acumulated / (N_train / batch_size))\n",
    "    \n",
    "    # Reset accumulated loss and get loss for the test set\n",
    "    loss_acumulated = 0.0\n",
    "    with torch.no_grad():\n",
    "        # Get input/output pairs\n",
    "        state_control_pairs = x_test_torch\n",
    "        next_state = f_test_torch\n",
    "\n",
    "        predicted_next_state = dynamics_model(state_control_pairs)\n",
    "\n",
    "        loss = loss_fn(predicted_next_state, next_state)\n",
    "        loss += torch.max(torch.norm(predicted_next_state - next_state, dim=1))\n",
    "        test_losses.append(loss)\n",
    "        epochs.set_description(f\"Test loss: {round(loss.item(), 4)}\")\n",
    "        \n",
    "        if loss <= best_loss:\n",
    "            best_loss = loss\n",
    "            filename = 'logs/dubins_model_best.pth.tar'\n",
    "            torch.save({'n_hidden_layers':n_hidden_layers, 'neurons_per_layer':hidden_layer_size, 'dynamics_model': dynamics_model.state_dict()}, filename)"
   ]
  },
  {
   "cell_type": "code",
   "execution_count": 192,
   "metadata": {},
   "outputs": [
    {
     "data": {
      "image/png": "[encoded data removed]",
      "text/plain": [
       "<Figure size 432x288 with 1 Axes>"
      ]
     },
     "metadata": {
      "needs_background": "light"
     },
     "output_type": "display_data"
    }
   ],
   "source": [
    "# Plot the loss curves\n",
    "plt.plot(range(epoch+1), training_losses)\n",
    "plt.plot(range(epoch+1), test_losses)\n",
    "plt.gca().set_xticks(np.arange(0, epoch+1, 100))\n",
    "plt.xlabel(\"Epoch\")\n",
    "plt.ylabel(\"Regression Loss (Mean abs + max)\")\n",
    "plt.legend([\"Training\", \"Test\"])\n",
    "plt.yscale(\"log\")"
   ]
  },
  {
   "cell_type": "code",
   "execution_count": 193,
   "metadata": {},
   "outputs": [
    {
     "name": "stdout",
     "output_type": "stream",
     "text": [
      "Test loss (mean L1): 0.0068\n",
      "Test loss (max L2): 0.0431\n"
     ]
    }
   ],
   "source": [
    "loss_acumulated = 0.0\n",
    "with torch.no_grad():\n",
    "    # Get input/output pairs\n",
    "    state_control_pairs = x_test_torch\n",
    "    next_state = f_test_torch\n",
    "\n",
    "    predicted_next_state = dynamics_model(state_control_pairs)\n",
    "\n",
    "    loss = loss_fn(predicted_next_state, next_state)\n",
    "    print(f\"Test loss (mean L1): {round(loss.item(), 4)}\")\n",
    "    loss = torch.max(torch.norm(predicted_next_state - next_state, dim=1))\n",
    "    print(f\"Test loss (max L2): {round(loss.item(), 4)}\")"
   ]
  }
 ],
 "metadata": {
  "kernelspec": {
   "display_name": "Python [conda env:neural_control] *",
   "language": "python",
   "name": "conda-env-neural_control-py"
  },
  "language_info": {
   "codemirror_mode": {
    "name": "ipython",
    "version": 3
   },
   "file_extension": ".py",
   "mimetype": "text/x-python",
   "name": "python",
   "nbconvert_exporter": "python",
   "pygments_lexer": "ipython3",
   "version": "3.7.9"
  }
 },
 "nbformat": 4,
 "nbformat_minor": 4
}
